{
 "cells": [
  {
   "cell_type": "code",
   "execution_count": null,
   "id": "7fa9d645",
   "metadata": {
    "vscode": {
     "languageId": "plaintext"
    }
   },
   "outputs": [],
   "source": [
    "from langgraph.graph import StateGraph, START, END\n",
    "from typing import TypedDict, Annotated\n",
    "from langchain_core.messages import BaseMessage, HumanMessage\n",
    "from langchain_openai import ChatOpenAI\n",
    "from langgraph.checkpoint.memory import MemorySaver"
   ]
  },
  {
   "cell_type": "code",
   "execution_count": null,
   "id": "847baa26",
   "metadata": {
    "vscode": {
     "languageId": "plaintext"
    }
   },
   "outputs": [],
   "source": [
    "from langgraph.graph.message import add_messages\n",
    "\n",
    "class ChatState(TypedDict):\n",
    "\n",
    "    messages: Annotated[list[BaseMessage], add_messages]"
   ]
  },
  {
   "cell_type": "code",
   "execution_count": null,
   "id": "f94668c3",
   "metadata": {
    "vscode": {
     "languageId": "plaintext"
    }
   },
   "outputs": [],
   "source": [
    "llm = ChatOpenAI()\n",
    "\n",
    "\n",
    "def chat_node(state: ChatState):\n",
    "\n",
    "    # take user query from state\n",
    "    messages = state['messages']\n",
    "\n",
    "    # send to llm\n",
    "    response = llm.invoke(messages)\n",
    "\n",
    "    # response store state\n",
    "    return {'messages': [response]}"
   ]
  },
  {
   "cell_type": "code",
   "execution_count": null,
   "id": "6d31b928",
   "metadata": {
    "vscode": {
     "languageId": "plaintext"
    }
   },
   "outputs": [],
   "source": [
    "#architecture of graph \n",
    "\n",
    "graph = StateGraph(ChatState)\n",
    "\n",
    "# add nodes\n",
    "graph.add_node('chat_node', chat_node)\n",
    "\n",
    "graph.add_edge(START, 'chat_node')\n",
    "graph.add_edge('chat_node', END)\n",
    "\n",
    "# instead of worklow saying chatbot as chatbot is also a workflow but simple \n",
    "checkpointer = MemorySaver()    # checkpointer for persistence\n",
    "chatbot = graph.compile(checkpointer=checkpointer)"
   ]
  },
  {
   "cell_type": "code",
   "execution_count": null,
   "id": "51bd520a",
   "metadata": {
    "vscode": {
     "languageId": "plaintext"
    }
   },
   "outputs": [],
   "source": [
    "chatbot   "
   ]
  },
  {
   "cell_type": "code",
   "execution_count": null,
   "id": "b3e365c5",
   "metadata": {
    "vscode": {
     "languageId": "plaintext"
    }
   },
   "outputs": [],
   "source": [
    "# doesnot allow for continuous chatting.\n",
    "\n",
    "initial_state = {\n",
    "    'messages': [HumanMessage(content='What is the capital of india')]\n",
    "}\n",
    "\n",
    "# if chatbot.invoke(initial_state)  \n",
    "# gives both human and ai message appenended \n",
    "\n",
    "chatbot.invoke(initial_state)['messages'][-1].content  "
   ]
  },
  {
   "cell_type": "code",
   "execution_count": null,
   "id": "33d269be",
   "metadata": {
    "vscode": {
     "languageId": "plaintext"
    }
   },
   "outputs": [],
   "source": [
    "# allow for continuous chatting.\n",
    "\n",
    "# unique id  to identify or classify session or user\n",
    "thread_id = '1'     \n",
    "\n",
    "\n",
    "while True:\n",
    "\n",
    "user_message = input('Type here: ')\n",
    "print('User:', user_message)\n",
    "\n",
    "if user_message.strip().lower() in ['exit', 'quit', 'bye']:\n",
    "\n",
    "break\n",
    "\n",
    "config = {\n",
    "    \"configurable\": {\n",
    "        \"thread_id\": thread_id\n",
    "    }\n",
    "}\n",
    "\n",
    "response = chatbot. invoke({'messages': [HumanMessage(content=user_message)]},config=config)\n",
    "\n",
    "print('AI:', response['messages'][-1].content)"
   ]
  },
  {
   "cell_type": "code",
   "execution_count": null,
   "id": "2a079dad",
   "metadata": {
    "vscode": {
     "languageId": "plaintext"
    }
   },
   "outputs": [],
   "source": [
    "# show workflow final state  values store   \n",
    "# if we save in db it can be aceess anytime in future\n",
    "\n",
    "state = chatbot.get_state(config=config)\n",
    "\n",
    "# simply   chatbot.get_state(config)"
   ]
  },
  {
   "cell_type": "code",
   "execution_count": null,
   "id": "a40e9e33",
   "metadata": {
    "vscode": {
     "languageId": "plaintext"
    }
   },
   "outputs": [],
   "source": [
    "# show workflow start aagadi ko  pani, intermediate and final state  values store   \n",
    "\n",
    "\n",
    "list(chatbot.get_state_history(config))"
   ]
  }
 ],
 "metadata": {
  "language_info": {
   "name": "python"
  }
 },
 "nbformat": 4,
 "nbformat_minor": 5
}
